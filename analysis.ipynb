{
 "cells": [
  {
   "cell_type": "code",
   "execution_count": 1,
   "metadata": {},
   "outputs": [],
   "source": [
    "import pandas as pd\n"
   ]
  },
  {
   "cell_type": "code",
   "execution_count": 5,
   "metadata": {},
   "outputs": [],
   "source": [
    "df = pd.read_csv('all.csv', parse_dates=[6])"
   ]
  },
  {
   "cell_type": "code",
   "execution_count": 199,
   "metadata": {},
   "outputs": [],
   "source": [
    "df = df[df.date.dt.year==2022]\n",
    "df = df.drop(columns='date')"
   ]
  },
  {
   "cell_type": "code",
   "execution_count": 200,
   "metadata": {},
   "outputs": [],
   "source": [
    "suburb_median = df.groupby('suburb')['price'].agg('median').to_frame().rename(columns={'price':'medianSuburbPrice'})\n",
    "df = df.merge(suburb_median, on='suburb')"
   ]
  },
  {
   "cell_type": "code",
   "execution_count": 201,
   "metadata": {},
   "outputs": [],
   "source": [
    "df = df.dropna()\n",
    "df.loc[df.landUnit == 'ha', 'landSize'] = df[df.landUnit == 'ha'].landSize*100\n",
    "df = df.drop(columns=['id', 'listingType', 'url', 'tagClassName', 'tagText',\n",
    "             'street', 'suburb', 'state', 'propertyTypeFormatted', 'landUnit'])\n",
    "df.astype({'beds': 'int64', 'baths': 'int64', 'parking': 'int64'})\n",
    "df = pd.get_dummies(df)"
   ]
  },
  {
   "cell_type": "code",
   "execution_count": 202,
   "metadata": {},
   "outputs": [],
   "source": [
    "n_rows = 10_000\n",
    "X_train = pd.get_dummies(df.sample(n_rows)).drop(columns=['price'])\n",
    "y_train = pd.get_dummies(df.sample(n_rows))['price']"
   ]
  },
  {
   "cell_type": "code",
   "execution_count": 203,
   "metadata": {},
   "outputs": [],
   "source": [
    "from sklearn.metrics import mean_absolute_error\n",
    "from sklearn.model_selection import KFold\n",
    "import sklearn.ensemble as E\n",
    "\n",
    "\n",
    "def test_model(model):\n",
    "    errors = []\n",
    "    for train_idx, test_idx in KFold().split(X_train):\n",
    "        model.fit(X_train.iloc[train_idx], y_train.iloc[train_idx])\n",
    "        errors.append(mean_absolute_error(y_train.iloc[test_idx], model.predict(X_train.iloc[test_idx])))\n",
    "    error = sum(errors)/len(errors)\n",
    "    print(f\"{error:,.0f} - {model}\")\n"
   ]
  },
  {
   "cell_type": "code",
   "execution_count": 204,
   "metadata": {},
   "outputs": [
    {
     "name": "stdout",
     "output_type": "stream",
     "text": [
      "529,993 - RandomForestRegressor()\n",
      "568,780 - ExtraTreesRegressor()\n",
      "553,156 - BaggingRegressor()\n",
      "1,047,370 - AdaBoostRegressor()\n",
      "483,639 - GradientBoostingRegressor()\n",
      "494,587 - HistGradientBoostingRegressor()\n"
     ]
    }
   ],
   "source": [
    "models = [E.RandomForestRegressor(),\n",
    "          E.ExtraTreesRegressor(),\n",
    "          E.BaggingRegressor(),\n",
    "          E.AdaBoostRegressor(),\n",
    "          E.GradientBoostingRegressor(),\n",
    "          E.HistGradientBoostingRegressor()]\n",
    "\n",
    "for model in models:\n",
    "    test_model(model)\n"
   ]
  }
 ],
 "metadata": {
  "kernelspec": {
   "display_name": "base",
   "language": "python",
   "name": "python3"
  },
  "language_info": {
   "codemirror_mode": {
    "name": "ipython",
    "version": 3
   },
   "file_extension": ".py",
   "mimetype": "text/x-python",
   "name": "python",
   "nbconvert_exporter": "python",
   "pygments_lexer": "ipython3",
   "version": "3.9.16"
  },
  "orig_nbformat": 4
 },
 "nbformat": 4,
 "nbformat_minor": 2
}
