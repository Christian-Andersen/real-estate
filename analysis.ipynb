{
 "cells": [
  {
   "cell_type": "code",
   "execution_count": 6,
   "metadata": {},
   "outputs": [
    {
     "name": "stdout",
     "output_type": "stream",
     "text": [
      "data\\3178.csv\r"
     ]
    }
   ],
   "source": [
    "import os\n",
    "import pandas as pd\n",
    "\n",
    "dfs = []\n",
    "for filename in os.listdir('data'):\n",
    "    path = os.path.join('data', filename)\n",
    "    if os.path.isfile(path):\n",
    "        df = pd.read_csv(path)\n",
    "        if len(df) >= 999:\n",
    "            dfs.append(df)\n",
    "\n",
    "df = pd.concat(dfs, ignore_index=True)"
   ]
  },
  {
   "cell_type": "code",
   "execution_count": null,
   "metadata": {},
   "outputs": [],
   "source": [
    "priced = df[df['price'] != 'Price Withheld']\n",
    "priced['price'] = pd.to_numeric(priced['price'])\n",
    "prices_by_postcode = priced.groupby('postcode')['price'].mean().sort_values()\n"
   ]
  }
 ],
 "metadata": {
  "kernelspec": {
   "display_name": "base",
   "language": "python",
   "name": "python3"
  },
  "language_info": {
   "codemirror_mode": {
    "name": "ipython",
    "version": 3
   },
   "file_extension": ".py",
   "mimetype": "text/x-python",
   "name": "python",
   "nbconvert_exporter": "python",
   "pygments_lexer": "ipython3",
   "version": "3.9.15"
  },
  "orig_nbformat": 4,
  "vscode": {
   "interpreter": {
    "hash": "62f6eaf2d8101febb1af33627c9c50ea88471fcac1fac65369e5243c00846bf4"
   }
  }
 },
 "nbformat": 4,
 "nbformat_minor": 2
}
